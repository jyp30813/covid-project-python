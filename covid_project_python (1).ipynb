{
 "cells": [
  {
   "cell_type": "code",
   "execution_count": 1,
   "id": "d2f58397",
   "metadata": {},
   "outputs": [],
   "source": [
    "import pandas as pd\n",
    "import numpy as np\n",
    "import matplotlib.pyplot as plt\n",
    "from sklearn.cluster import KMeans\n",
    "from sklearn.datasets import load_iris\n",
    "from sklearn.preprocessing import StandardScaler"
   ]
  },
  {
   "cell_type": "code",
   "execution_count": 2,
   "id": "0ab51227",
   "metadata": {},
   "outputs": [],
   "source": [
    "similarity_df = pd.read_csv('C:/Users/joon6/OneDrive/Desktop/Covid Project/Python/SimilarityTable.csv')\n",
    "country_dropped = similarity_df.drop(['location', 'b_location', 'c_location'], axis=1)\n",
    "country_dropped = country_dropped.dropna()\n",
    "scaled_df = StandardScaler().fit_transform(country_dropped)\n"
   ]
  },
  {
   "cell_type": "code",
   "execution_count": 3,
   "id": "328d3dcf",
   "metadata": {},
   "outputs": [],
   "source": [
    "# initialize kmeans parameters\n",
    "kmeans_initialize = {\n",
    "    \"init\": \"random\",\n",
    "    \"n_init\": 10,\n",
    "    \"random_state\": 1,\n",
    "}"
   ]
  },
  {
   "cell_type": "code",
   "execution_count": 4,
   "id": "d6c516eb",
   "metadata": {
    "collapsed": true
   },
   "outputs": [
    {
     "name": "stderr",
     "output_type": "stream",
     "text": [
      "C:\\Users\\joon6\\anaconda3\\lib\\site-packages\\sklearn\\cluster\\_kmeans.py:1036: UserWarning: KMeans is known to have a memory leak on Windows with MKL, when there are less chunks than available threads. You can avoid it by setting the environment variable OMP_NUM_THREADS=1.\n",
      "  warnings.warn(\n"
     ]
    }
   ],
   "source": [
    "# create list to hold SSE values for each k\n",
    "sse = []\n",
    "for k in range(1, 15):\n",
    "    kmeans = KMeans(n_clusters=k, **kmeans_initialize)\n",
    "    kmeans.fit(scaled_df)\n",
    "    sse.append(kmeans.inertia_)"
   ]
  },
  {
   "cell_type": "code",
   "execution_count": 5,
   "id": "c2ecba4c",
   "metadata": {},
   "outputs": [
    {
     "data": {
      "image/png": "[encoded data removed]",
      "text/plain": [
       "<Figure size 640x480 with 1 Axes>"
      ]
     },
     "metadata": {},
     "output_type": "display_data"
    }
   ],
   "source": [
    "\n",
    "# visualize results\n",
    "plt.plot(range(1, 15), sse)\n",
    "plt.xticks(range(1, 15))\n",
    "plt.xlabel(\"Number of Clusters\")\n",
    "plt.ylabel(\"SSE\")\n",
    "plt.show()\n",
    "# Bend at k = 4, so 4 clusters are the most optimal\n"
   ]
  },
  {
   "cell_type": "code",
   "execution_count": 6,
   "id": "bef66863",
   "metadata": {},
   "outputs": [],
   "source": [
    "\n",
    "# using optimal number of clusters\n",
    "kmeans = KMeans(init=\"random\", n_clusters=4, n_init=10, random_state=1)\n",
    "\n",
    "# fit k-means algorithm to data\n",
    "kmeans.fit(scaled_df)\n",
    "\n",
    "# append cluster assingments to original DataFrame\n",
    "similarity_df['cluster'] = kmeans.labels_\n"
   ]
  },
  {
   "cell_type": "code",
   "execution_count": 20,
   "id": "115d3e54",
   "metadata": {},
   "outputs": [
    {
     "name": "stdout",
     "output_type": "stream",
     "text": [
      "              location  avg_stringency_index  ...  \\\n",
      "0          Afghanistan             29.475518  ...   \n",
      "1              Albania             44.376051  ...   \n",
      "2              Algeria             55.225142  ...   \n",
      "3              Andorra             35.638486  ...   \n",
      "4               Angola             55.445716  ...   \n",
      "..                 ...                   ...  ...   \n",
      "230  Wallis and Futuna              0.000000  ...   \n",
      "231     Western Sahara              0.000000  ...   \n",
      "232              Yemen             28.074693  ...   \n",
      "233             Zambia             32.134156  ...   \n",
      "234           Zimbabwe             62.042663  ...   \n",
      "\n",
      "     max_human_development_index  cluster  \n",
      "0                          0.511        2  \n",
      "1                          0.795        5  \n",
      "2                          0.748        6  \n",
      "3                          0.868        2  \n",
      "4                          0.581        2  \n",
      "..                           ...      ...  \n",
      "230                        0.000        4  \n",
      "231                        0.000        4  \n",
      "232                        0.470        2  \n",
      "233                        0.584        2  \n",
      "234                        0.571        2  \n",
      "\n",
      "[235 rows x 19 columns]\n"
     ]
    }
   ],
   "source": [
    "pd.set_option('display.max_rows', 10)\n",
    "pd.set_option('display.max_columns', 5)\n",
    "\n",
    "# view updated DataFrame\n",
    "print(similarity_df)"
   ]
  },
  {
   "cell_type": "code",
   "execution_count": 11,
   "id": "54c97471",
   "metadata": {},
   "outputs": [
    {
     "name": "stdout",
     "output_type": "stream",
     "text": [
      "187    1\n",
      "Name: cluster, dtype: int32\n"
     ]
    }
   ],
   "source": [
    "# view cluster for Singapore\n",
    "print(similarity_df.loc[similarity_df['location'] == 'Singapore', 'cluster'])\n"
   ]
  },
  {
   "cell_type": "code",
   "execution_count": 13,
   "id": "ee9c103f",
   "metadata": {},
   "outputs": [
    {
     "name": "stdout",
     "output_type": "stream",
     "text": [
      "['Argentina', 'Australia', 'Austria', 'Bahamas', 'Barbados', 'Belarus', 'Belgium', 'Bosnia and Herzegovina', 'Brunei', 'Bulgaria', 'Canada', 'Chile', 'Croatia', 'Cyprus', 'Czechia', 'Denmark', 'Estonia', 'Finland', 'France', 'Georgia', 'Germany', 'Greece', 'Hong Kong', 'Hungary', 'Iceland', 'Ireland', 'Israel', 'Italy', 'Japan', 'Kuwait', 'Latvia', 'Lithuania', 'Luxembourg', 'Malta', 'Mauritius', 'Montenegro', 'Netherlands', 'New Zealand', 'Norway', 'Poland', 'Portugal', 'Qatar', 'Romania', 'Russia', 'Saudi Arabia', 'Serbia', 'Singapore', 'Slovakia', 'Slovenia', 'South Korea', 'Spain', 'Sweden', 'Switzerland', 'Trinidad and Tobago', 'Ukraine', 'United Arab Emirates', 'United Kingdom', 'United States', 'Uruguay']\n",
      "59\n"
     ]
    }
   ],
   "source": [
    "# list countries in cluster 1\n",
    "c1_countries = (similarity_df.loc[similarity_df['cluster'] == 1, 'location']).tolist()\n",
    "print(c1_countries)\n",
    "\n",
    "print(len(c1_countries))"
   ]
  },
  {
   "cell_type": "code",
   "execution_count": 15,
   "id": "fa3f0931",
   "metadata": {},
   "outputs": [],
   "source": [
    "# There are 59 countries in cluster 1.\n",
    "# We only need a few countries that are similar to Singapore\n",
    "# rather than an optimization for all countries, so lets divide into more clusters.\n",
    "\n",
    "\n",
    "# using  of clusters\n",
    "kmeans = KMeans(init=\"random\", n_clusters=10, n_init=10, random_state=1)\n",
    "\n",
    "# fit k-means algorithm to data\n",
    "kmeans.fit(scaled_df)\n",
    "\n",
    "# append cluster assignments to original DataFrame\n",
    "similarity_df['cluster'] = kmeans.labels_"
   ]
  },
  {
   "cell_type": "code",
   "execution_count": 24,
   "id": "b4e61fc7",
   "metadata": {},
   "outputs": [
    {
     "name": "stdout",
     "output_type": "stream",
     "text": [
      "              location  avg_stringency_index  ...  \\\n",
      "0          Afghanistan             29.475518  ...   \n",
      "1              Albania             44.376051  ...   \n",
      "2              Algeria             55.225142  ...   \n",
      "3              Andorra             35.638486  ...   \n",
      "4               Angola             55.445716  ...   \n",
      "..                 ...                   ...  ...   \n",
      "230  Wallis and Futuna              0.000000  ...   \n",
      "231     Western Sahara              0.000000  ...   \n",
      "232              Yemen             28.074693  ...   \n",
      "233             Zambia             32.134156  ...   \n",
      "234           Zimbabwe             62.042663  ...   \n",
      "\n",
      "     max_human_development_index  cluster  \n",
      "0                          0.511        2  \n",
      "1                          0.795        5  \n",
      "2                          0.748        6  \n",
      "3                          0.868        2  \n",
      "4                          0.581        2  \n",
      "..                           ...      ...  \n",
      "230                        0.000        4  \n",
      "231                        0.000        4  \n",
      "232                        0.470        2  \n",
      "233                        0.584        2  \n",
      "234                        0.571        2  \n",
      "\n",
      "[235 rows x 19 columns]\n"
     ]
    }
   ],
   "source": [
    "# view updated DataFrame with cluster column values \n",
    "print(similarity_df)"
   ]
  },
  {
   "cell_type": "code",
   "execution_count": 17,
   "id": "c2668a4f",
   "metadata": {},
   "outputs": [
    {
     "name": "stdout",
     "output_type": "stream",
     "text": [
      "187    1\n",
      "Name: cluster, dtype: int32\n"
     ]
    }
   ],
   "source": [
    "# view cluster for Singapore\n",
    "print(similarity_df.loc[similarity_df['location'] == 'Singapore', 'cluster'])\n",
    "# Singapore is again assigned to cluster 1"
   ]
  },
  {
   "cell_type": "code",
   "execution_count": 19,
   "id": "41cd1736",
   "metadata": {},
   "outputs": [
    {
     "name": "stdout",
     "output_type": "stream",
     "text": [
      "['Hong Kong', 'Luxembourg', 'Qatar', 'Singapore']\n"
     ]
    }
   ],
   "source": [
    "# list countries in cluster 1\n",
    "c1_countries = (similarity_df.loc[similarity_df['cluster'] == 1, 'location']).tolist()\n",
    "print(c1_countries)"
   ]
  }
 ],
 "metadata": {
  "kernelspec": {
   "display_name": "Python 3 (ipykernel)",
   "language": "python",
   "name": "python3"
  },
  "language_info": {
   "codemirror_mode": {
    "name": "ipython",
    "version": 3
   },
   "file_extension": ".py",
   "mimetype": "text/x-python",
   "name": "python",
   "nbconvert_exporter": "python",
   "pygments_lexer": "ipython3",
   "version": "3.9.13"
  }
 },
 "nbformat": 4,
 "nbformat_minor": 5
}
